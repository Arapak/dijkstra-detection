{
 "cells": [
  {
   "cell_type": "code",
   "execution_count": 78,
   "metadata": {},
   "outputs": [
    {
     "name": "stdout",
     "output_type": "stream",
     "text": [
      "Tensorflow version:  2.13.0\n"
     ]
    }
   ],
   "source": [
    "import tensorflow as tf\n",
    "import json\n",
    "import numpy\n",
    "import random\n",
    "print(\"Tensorflow version: \", tf.__version__)"
   ]
  },
  {
   "cell_type": "code",
   "execution_count": null,
   "metadata": {},
   "outputs": [],
   "source": [
    "data_path = \"../preprocessed_data/\""
   ]
  },
  {
   "cell_type": "code",
   "execution_count": 79,
   "metadata": {},
   "outputs": [],
   "source": [
    "xDataFile = open(data_path + \"x_data.json\", \"r\")\n",
    "x_data = json.load(xDataFile)\n",
    "xDataFile.close()\n",
    "\n",
    "yDataFile = open(data_path + \"y_data.json\", \"r\")\n",
    "y_data = json.load(yDataFile)\n",
    "yDataFile.close()"
   ]
  },
  {
   "cell_type": "code",
   "execution_count": 80,
   "metadata": {},
   "outputs": [],
   "source": [
    "data = [(x_data[i], y_data[i]) for i in range(len(x_data))]\n",
    "\n",
    "data_0 = []\n",
    "data_1 = []\n",
    "for (tokens, val) in data:\n",
    "    if val == 1:\n",
    "        data_1.append((tokens,val))\n",
    "    else:\n",
    "        data_0.append((tokens, val))\n",
    "\n",
    "random.shuffle(data_0)\n",
    "random.shuffle(data_1)\n",
    "\n",
    "data = data_0[:min(len(data_0), len(data_1))]\n",
    "data.extend(data_1[:min(len(data_0), len(data_1))])\n",
    "\n",
    "random.shuffle(data)"
   ]
  },
  {
   "cell_type": "code",
   "execution_count": 81,
   "metadata": {},
   "outputs": [
    {
     "name": "stdout",
     "output_type": "stream",
     "text": [
      "10572\n"
     ]
    }
   ],
   "source": [
    "train_data = data[len(data)//10:]\n",
    "test_data = data[:len(data)//10]\n",
    "x_train = numpy.array([x[0] for x in train_data])\n",
    "y_train = numpy.array([x[1] for x in train_data])\n",
    "x_test = numpy.array([x[0] for x in test_data])\n",
    "y_test = numpy.array([x[1] for x in test_data])\n",
    "\n",
    "print(len(x_train))"
   ]
  },
  {
   "cell_type": "code",
   "execution_count": 82,
   "metadata": {},
   "outputs": [
    {
     "name": "stdout",
     "output_type": "stream",
     "text": [
      "Model: \"sequential_11\"\n",
      "_________________________________________________________________\n",
      " Layer (type)                Output Shape              Param #   \n",
      "=================================================================\n",
      " embedding (Embedding)       (None, None, 32)          32768     \n",
      "                                                                 \n",
      " dropout_11 (Dropout)        (None, None, 32)          0         \n",
      "                                                                 \n",
      " global_average_pooling1d (  (None, 32)                0         \n",
      " GlobalAveragePooling1D)                                         \n",
      "                                                                 \n",
      " dropout_12 (Dropout)        (None, 32)                0         \n",
      "                                                                 \n",
      " dense_22 (Dense)            (None, 1)                 33        \n",
      "                                                                 \n",
      "=================================================================\n",
      "Total params: 32801 (128.13 KB)\n",
      "Trainable params: 32801 (128.13 KB)\n",
      "Non-trainable params: 0 (0.00 Byte)\n",
      "_________________________________________________________________\n"
     ]
    }
   ],
   "source": [
    "model = tf.keras.models.Sequential([\n",
    "  tf.keras.layers.Embedding(1024, 32),\n",
    "  tf.keras.layers.Dropout(0.2),\n",
    "  tf.keras.layers.GlobalAveragePooling1D(),\n",
    "  tf.keras.layers.Dropout(0.2),\n",
    "  tf.keras.layers.Dense(1)\n",
    "])\n",
    "\n",
    "model.summary()"
   ]
  },
  {
   "cell_type": "code",
   "execution_count": 86,
   "metadata": {},
   "outputs": [],
   "source": [
    "model.compile(loss= tf.keras.losses.BinaryCrossentropy(from_logits=True),\n",
    "              optimizer='adam',\n",
    "              metrics=tf.metrics.BinaryAccuracy(threshold=0.0))"
   ]
  },
  {
   "cell_type": "code",
   "execution_count": 87,
   "metadata": {},
   "outputs": [
    {
     "name": "stdout",
     "output_type": "stream",
     "text": [
      "10572 10572\n",
      "Epoch 1/10\n",
      "331/331 [==============================] - 2s 5ms/step - loss: 0.6298 - binary_accuracy: 0.7312\n",
      "Epoch 2/10\n",
      "331/331 [==============================] - 2s 5ms/step - loss: 0.4637 - binary_accuracy: 0.8827\n",
      "Epoch 3/10\n",
      "331/331 [==============================] - 2s 5ms/step - loss: 0.3001 - binary_accuracy: 0.9524\n",
      "Epoch 4/10\n",
      "331/331 [==============================] - 2s 5ms/step - loss: 0.2048 - binary_accuracy: 0.9669\n",
      "Epoch 5/10\n",
      "331/331 [==============================] - 2s 5ms/step - loss: 0.1574 - binary_accuracy: 0.9706\n",
      "Epoch 6/10\n",
      "331/331 [==============================] - 2s 5ms/step - loss: 0.1315 - binary_accuracy: 0.9732\n",
      "Epoch 7/10\n",
      "331/331 [==============================] - 2s 5ms/step - loss: 0.1150 - binary_accuracy: 0.9760\n",
      "Epoch 8/10\n",
      "331/331 [==============================] - 2s 5ms/step - loss: 0.1034 - binary_accuracy: 0.9781\n",
      "Epoch 9/10\n",
      "331/331 [==============================] - 2s 5ms/step - loss: 0.0953 - binary_accuracy: 0.9794\n",
      "Epoch 10/10\n",
      "331/331 [==============================] - 2s 5ms/step - loss: 0.0878 - binary_accuracy: 0.9797\n"
     ]
    },
    {
     "data": {
      "text/plain": [
       "<keras.src.callbacks.History at 0x7f8874bba260>"
      ]
     },
     "execution_count": 87,
     "metadata": {},
     "output_type": "execute_result"
    }
   ],
   "source": [
    "print(len(x_train), len(y_train))\n",
    "model.fit(x_train, y_train, epochs=10)"
   ]
  },
  {
   "cell_type": "code",
   "execution_count": 88,
   "metadata": {},
   "outputs": [
    {
     "name": "stdout",
     "output_type": "stream",
     "text": [
      "37/37 - 0s - loss: 0.0765 - binary_accuracy: 0.9787 - 150ms/epoch - 4ms/step\n"
     ]
    },
    {
     "data": {
      "text/plain": [
       "[0.07648418843746185, 0.9787052869796753]"
      ]
     },
     "execution_count": 88,
     "metadata": {},
     "output_type": "execute_result"
    }
   ],
   "source": [
    "model.evaluate(x_test,  y_test, verbose=2)"
   ]
  }
 ],
 "metadata": {
  "kernelspec": {
   "display_name": "Python 3",
   "language": "python",
   "name": "python3"
  },
  "language_info": {
   "codemirror_mode": {
    "name": "ipython",
    "version": 3
   },
   "file_extension": ".py",
   "mimetype": "text/x-python",
   "name": "python",
   "nbconvert_exporter": "python",
   "pygments_lexer": "ipython3",
   "version": "3.10.7"
  },
  "orig_nbformat": 4
 },
 "nbformat": 4,
 "nbformat_minor": 2
}
